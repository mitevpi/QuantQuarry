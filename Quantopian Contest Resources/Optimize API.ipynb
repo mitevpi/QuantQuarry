{
 "cells": [
  {
   "cell_type": "markdown",
   "metadata": {},
   "source": [
    "#Optimize API"
   ]
  },
  {
   "cell_type": "markdown",
   "metadata": {},
   "source": [
    "Suppose you've written an algorithm that's developed a signal (for example, a [Pipeline Factor](https://www.quantopian.com/tutorials/pipeline#lesson3)) that's predictive of future asset returns. You might think that the hard part is over, but you're still left with the daunting task of translating your signal into an algorithm that can turn a profit while also managing risk exposures.\n",
    "\n",
    "Traditionally in quantitative finance, the solution to the problem of maximizing returns while constraining risk has been to employ some form of [Portfolio Optimization](https://en.wikipedia.org/wiki/Portfolio_optimization), but performing sophisticated optimizations is challenging on today's Quantopian.\n",
    "\n",
    "Python libraries like [scipy.optimize](http://docs.scipy.org/doc/scipy/reference/optimize.html), [CVXOPT](http://cvxopt.org/), and [CVXPY](http://www.cvxpy.org/en/latest/) (all available on Quantopian today) provide generic tools for solving optimization problems. These libraries are powerful and flexible, but it takes significant expertise to convert the data structures available on Quantopian into the specific formats understood by these libraries.\n",
    "\n",
    "The [**Optimize API**](https://www.quantopian.com/help#optimize-title) is a suite of tools for defining and solving portfolio optimization problems directly in terms of financial domain concepts. Users interact with the Optimize API by providing an `Objective` and a list of `Constraint` objects to an API function that runs a portfolio optimization. The Optimize API hides most of the complex mathematics of portfolio optimization, allowing users to think in terms of high-level concepts like “maximize expected returns” and “constrain sector exposure” instead of abstract matrix products."
   ]
  },
  {
   "cell_type": "markdown",
   "metadata": {},
   "source": [
    "### What is Portfolio Optimization?\n",
    "\n",
    "Many algorithms written on Quantopian reach a point where they need to solve an **optimization problem** of the following form:\n",
    "\n",
    "Given a list of stocks, choose a vector,\n",
    "\n",
    "$$w$$ \n",
    "\n",
    "of weights in each stock that maximizes (or minimizes) an **objective** function,\n",
    "\n",
    "$$F(w)$$ \n",
    "\n",
    "subject to a set of inequality **constraints**,\n",
    "\n",
    "\\begin{align} \n",
    "C_1(w) &\\leq h_1 \\\\ \n",
    "C_2(w) &\\leq h_2    \\\\\n",
    "&\\dots           \\\\\n",
    "C_N(w) &\\leq h_N    \\\\\n",
    "\\end{align}\n",
    "\n",
    "####Example:\n",
    "\n",
    "An algorithm builds a model that predicts expected returns for a list of stocks. The algorithm wants to allocate a limited amount of capital to those stocks in a way that gives it the greatest possible expected return without placing too big a bet on any single stock.\n",
    "\n",
    "We can frame this as an optimization problem as follows:\n",
    "\n",
    "Given an expected returns vector $r = [r_0, r_1, \\dots, r_n]$, a maximum single-stock weight $w_{max}$, and a maximum total weight $W_{max}$, find a portfolio weight vector $w = [w_0, w_1, \\dots, w_n]$ that solves the following system:\n",
    "\n",
    "\\begin{align}\n",
    "\\text{maximize}&& \\\\\n",
    "&&r \\cdot w \\\\\n",
    "\\text{subject to}&& \\\\\n",
    "&&w_i &\\leq w_{max} && 0 \\leq i \\leq n\\\\\n",
    "&& \\sum_{i=0}^{n}{|w_i|} &\\leq W_{max}\n",
    "\\end{align}\n",
    "\n",
    "A more sophisticated algorithm might introduce a more complex objective (e.g. \"maximize return with a penalty applied for expected volatility\"), or it might introduce more complex constraints (e.g. limit exposure to particular market sectors)."
   ]
  },
  {
   "cell_type": "markdown",
   "metadata": {},
   "source": [
    "## API Overview\n",
    "\n",
    "The Optimize API is defined in the [**`quantopian.optimize`**](https://www.quantopian.com/help#module-quantopian.optimize) module.\n",
    "\n",
    "The `optimize` module has three important concepts:\n",
    "\n",
    "1. [**`Objectives`**](https://www.quantopian.com/help#objectives): classes that define the function to be minimized or maximized by the optimizer.\n",
    "2. [**`Constraints`**](https://www.quantopian.com/help#objectives): classes that define constraints that the optimizer must respect when finding a new portfolio.\n",
    "3. [**`Entry Points`**](https://www.quantopian.com/help#running-optimizations), functions that actually run optimizations. The Optimize API has three entrypoints:\n",
    "  - `calculate_optimal_portfolio`, the primary entrypoint in research notebooks.\n",
    "  - `order_optimal_portfolio`, the primary entrypoint in trading algorithms.\n",
    "  - `run_optimization`, a lower-level entrypoint useful for debugging.\n",
    "\n",
    "To run a portfolio optimization **in a notebook**, you call `calculate_optimal_portfolio` and provide  up to three inputs: \n",
    "\n",
    "- An `Objective` to optimize.\n",
    "- A list of `Constraint`s to enforce.\n",
    "- (optionally) A [pandas Series](http://pandas.pydata.org/pandas-docs/stable/generated/pandas.Series.html) containing weights for the current portfolio. If no current weights are provided, the optimization proceeds assuming that the current portfolio is empty.\n",
    "\n",
    "To run a portfolio optimization **in a trading algorithm**, you call `order_optimal_portfolio` instead. \n",
    "`order_optimal_portfolio` accepts two inputs:\n",
    "\n",
    "- An `Objective` to optimize (same as above).\n",
    "- A list of `Constraints` to enforce (same as above).\n",
    "\n",
    "It is also possible to call `calculate_optimal_portfolio` from a trading algorithm to compute the portfolio that `order_optimal_portfolio` would attempt to achieve if invoked."
   ]
  },
  {
   "cell_type": "code",
   "execution_count": 1,
   "metadata": {
    "collapsed": false
   },
   "outputs": [
    {
     "name": "stdout",
     "output_type": "stream",
     "text": [
      "\n",
      "    Calculate optimal portfolio weights given ``objective`` and ``constraints``.\n",
      "\n",
      "    Parameters\n",
      "    ----------\n",
      "    objective : Objective\n",
      "        The objective to be minimized or maximized.\n",
      "    constraints : list[Constraint]\n",
      "        List of constraints that must be satisfied by the new portfolio.\n",
      "    current_portfolio : pd.Series, optional\n",
      "        A Series containing the current portfolio weights, expressed as\n",
      "        percentages of the portfolio's liquidation value.\n",
      "    \n",
      "        When called from a trading algorithm, the default value of\n",
      "        ``current_portfolio`` is the algorithm's current portfolio.\n",
      "    \n",
      "        When called interactively, the default value of ``current_portfolio``\n",
      "        is an empty portfolio.\n",
      "\n",
      "    Returns\n",
      "    -------\n",
      "    optimal_portfolio : pd.Series\n",
      "        A Series containing portfolio weights that maximize (or minimize)\n",
      "        ``objective`` without violating any ``constraints``. Weights should be\n",
      "        interpreted in the same way as ``current_portfolio``.\n",
      "\n",
      "    Raises\n",
      "    ------\n",
      "    \n",
      "    InfeasibleConstraints\n",
      "        Raised when there is no possible portfolio that satisfies the received\n",
      "        constraints.\n",
      "    UnboundedObjective\n",
      "        Raised when the received constraints are not sufficient to put an upper\n",
      "        (or lower) bound on the calculated portfolio weights.\n",
      "\n",
      "    Notes\n",
      "    -----\n",
      "    This function is a shorthand for calling ``run_optimization``, checking for\n",
      "    an error, and extracting the result's ``new_weights`` attribute.\n",
      "\n",
      "    If an optimization problem is feasible, the following are equivalent::\n",
      "\n",
      "        # Using calculate_optimal_portfolio.\n",
      "        >>> weights = calculate_optimal_portfolio(objective, constraints, portfolio)\n",
      "\n",
      "        # Using run_optimization.\n",
      "        >>> result = run_optimization(objective, constraints, portfolio)\n",
      "        >>> result.raise_for_status()  # Raises if the optimization failed.\n",
      "        >>> weights = result.new_weights\n",
      "\n",
      "    See Also\n",
      "    --------\n",
      "    :func:`quantopian.optimize.run_optimization`\n",
      "    \n"
     ]
    }
   ],
   "source": [
    "import quantopian.optimize as opt\n",
    "print opt.calculate_optimal_portfolio.__doc__"
   ]
  },
  {
   "cell_type": "markdown",
   "metadata": {},
   "source": [
    "Lists of the currently available objectives and constraints can be found under **`quantopian.optimize.objectives`** and **`quantopian.optimize.constraints`**, respectively."
   ]
  },
  {
   "cell_type": "code",
   "execution_count": 2,
   "metadata": {
    "collapsed": false
   },
   "outputs": [
    {
     "data": {
      "text/plain": [
       "[quantopian.optimize.objectives.MaximizeAlpha,\n",
       " quantopian.optimize.objectives.Objective,\n",
       " quantopian.optimize.objectives.TargetWeights]"
      ]
     },
     "execution_count": 2,
     "metadata": {},
     "output_type": "execute_result"
    }
   ],
   "source": [
    "opt.objectives"
   ]
  },
  {
   "cell_type": "code",
   "execution_count": 3,
   "metadata": {
    "collapsed": false
   },
   "outputs": [
    {
     "data": {
      "text/plain": [
       "[quantopian.optimize.constraints.Basket,\n",
       " quantopian.optimize.constraints.CannotHold,\n",
       " quantopian.optimize.constraints.Constraint,\n",
       " quantopian.optimize.constraints.DollarNeutral,\n",
       " quantopian.optimize.constraints.FactorExposure,\n",
       " quantopian.optimize.constraints.FixedWeight,\n",
       " quantopian.optimize.constraints.Frozen,\n",
       " quantopian.optimize.constraints.LongOnly,\n",
       " quantopian.optimize.constraints.MaxGrossExposure,\n",
       " quantopian.optimize.constraints.MaxTurnover,\n",
       " quantopian.optimize.constraints.NetExposure,\n",
       " quantopian.optimize.constraints.NetGroupExposure,\n",
       " quantopian.optimize.constraints.Pair,\n",
       " quantopian.optimize.constraints.PositionConcentration,\n",
       " quantopian.optimize.constraints.ReduceOnly,\n",
       " quantopian.optimize.constraints.ShortOnly]"
      ]
     },
     "execution_count": 3,
     "metadata": {},
     "output_type": "execute_result"
    }
   ],
   "source": [
    "opt.constraints"
   ]
  },
  {
   "cell_type": "markdown",
   "metadata": {},
   "source": [
    "### Example: Maximize Expected Returns with Exposure and Concentration Constraints\n",
    "\n",
    "Let's look at how we can use the `optimize` API to solve the example outlined above:\n",
    "\n",
    "> An algorithm builds a model that predicts expected returns for a list of stocks. The algorithm wants to allocate a limited amount of capital to those stocks in a way that gives it the greatest possible expected return without placing too big a bet on any single stock.\n",
    "\n",
    "Since we're assuming we already have a returns model, we'll just use random numbers for this example."
   ]
  },
  {
   "cell_type": "code",
   "execution_count": 4,
   "metadata": {
    "collapsed": true
   },
   "outputs": [],
   "source": [
    "import numpy as np\n",
    "import pandas as pd\n",
    "\n",
    "def fancy_returns_model(assets):\n",
    "    \"\"\"Not actually fancy.\"\"\"\n",
    "    # Generate a random number for each asset.\n",
    "    rng = np.random.RandomState(5)\n",
    "    return pd.Series(index=assets, data=rng.randn(len(assets)))"
   ]
  },
  {
   "cell_type": "markdown",
   "metadata": {},
   "source": [
    "We'll also add a few utility functions for plotting portfolio weights."
   ]
  },
  {
   "cell_type": "code",
   "execution_count": 5,
   "metadata": {
    "collapsed": false
   },
   "outputs": [],
   "source": [
    "def draw_asset_barplot(weights, title, plot_kwargs=None):\n",
    "    \"\"\"Draw a bar plot from a Series with Asset labels.\"\"\"\n",
    "    return draw_barplot(\n",
    "        weights, \n",
    "        title, \n",
    "        xticks=[asset.symbol for asset in weights.index],\n",
    "        plot_kwargs=plot_kwargs, \n",
    "    )\n",
    "\n",
    "def draw_barplot(weights, title, xticks=None, plot_kwargs=None):\n",
    "    \"\"\"Draw a bar plot from a pd.Series.\"\"\"\n",
    "    \n",
    "    # Draw the plot. Forward plot_kwargs (if provided) as keywords to ``plot``.\n",
    "    axes = weights.plot(kind='bar', rot=0, fontsize=12, **(plot_kwargs or {}))\n",
    "    axes.grid(False, axis='x')\n",
    "    \n",
    "    # Set a title.\n",
    "    axes.set_title(title, {'fontsize': 14})\n",
    "    \n",
    "    # Set xtick labels, if provided.\n",
    "    if xticks is not None:\n",
    "        axes.set_xticklabels(xticks)\n",
    "\n",
    "    return axes"
   ]
  },
  {
   "cell_type": "code",
   "execution_count": 6,
   "metadata": {
    "collapsed": false
   },
   "outputs": [],
   "source": [
    "# Choose a small universe to make the graphs manageable.\n",
    "universe = symbols(\n",
    "    ['AAPL', 'MSFT', 'TWTR', 'BP', 'XOM', 'MCD', 'QSR'],\n",
    "    symbol_reference_date='2016-10-07',\n",
    ")\n",
    "                     \n",
    "empty_portfolio = pd.Series(index=universe, data=0.0)\n",
    "expected_returns = fancy_returns_model(universe)"
   ]
  },
  {
   "cell_type": "code",
   "execution_count": 7,
   "metadata": {
    "collapsed": false
   },
   "outputs": [
    {
     "data": {
      "image/png": "[encoded data removed]",
      "text/plain": [
       "<matplotlib.figure.Figure at 0x7f32582ce090>"
      ]
     },
     "metadata": {},
     "output_type": "display_data"
    }
   ],
   "source": [
    "draw_asset_barplot(expected_returns, 'Expected Returns');"
   ]
  },
  {
   "cell_type": "markdown",
   "metadata": {},
   "source": [
    "Since our goal is to maximize a function directly proportional to asset returns, we'll use **`opt.MaximizeAlpha`** as our objective function."
   ]
  },
  {
   "cell_type": "code",
   "execution_count": 8,
   "metadata": {
    "collapsed": false
   },
   "outputs": [
    {
     "name": "stdout",
     "output_type": "stream",
     "text": [
      "\n",
      "    Objective that maximizes ``weights.dot(alphas)`` for an alpha vector.\n",
      "\n",
      "    Ideally, ``alphas`` should contain coefficients such that ``alphas[asset]``\n",
      "    is proportional to the expected return of ``asset`` for the time horizon\n",
      "    over which the target portfolio will be held.\n",
      "\n",
      "    In the special case that ``alphas`` is an estimate of expected returns for\n",
      "    each asset, this objective simply maximizes the expected return of the\n",
      "    total portfolio.\n",
      "\n",
      "    Parameters\n",
      "    ----------\n",
      "    alphas : pd.Series[Asset -> float] or dict[Asset -> float]\n",
      "        Map from assets to alpha coefficients for those assets.\n",
      "\n",
      "    Notes\n",
      "    -----\n",
      "    This objective should almost always be used with a `MaxGrossExposure`\n",
      "    constraint, and should usually be used with a `PositionConcentration`\n",
      "    constraint.\n",
      "\n",
      "    Without a constraint on gross exposure, this objective will raise an error\n",
      "    attempting to allocate an unbounded amount of capital to every asset with a\n",
      "    nonzero alpha.\n",
      "\n",
      "    Without a constraint on individual position size, this objective will\n",
      "    allocate all of its capital in the single asset with the largest expected\n",
      "    return.\n",
      "    \n"
     ]
    }
   ],
   "source": [
    "print opt.MaximizeAlpha.__doc__"
   ]
  },
  {
   "cell_type": "code",
   "execution_count": 9,
   "metadata": {
    "collapsed": false
   },
   "outputs": [
    {
     "data": {
      "text/plain": [
       "<quantopian.optimize.objectives.MaximizeAlpha at 0x7f3256f1cad0>"
      ]
     },
     "execution_count": 9,
     "metadata": {},
     "output_type": "execute_result"
    }
   ],
   "source": [
    "maximize_returns = opt.MaximizeAlpha(expected_returns)\n",
    "maximize_returns"
   ]
  },
  {
   "cell_type": "markdown",
   "metadata": {},
   "source": [
    "`Objective` classes can render themselves in mathematical notation via the `.math` property:"
   ]
  },
  {
   "cell_type": "code",
   "execution_count": 10,
   "metadata": {
    "collapsed": false
   },
   "outputs": [
    {
     "data": {
      "text/latex": [
       "\n",
       "\\begin{align*}\n",
       "&\\underset{\\boldsymbol{w}}{\\text{maximize}} && \\boldsymbol{\\alpha} \\cdot \\boldsymbol{w} \\\\\n",
       "&\\text{where} &&\\boldsymbol{\\alpha} = [0.441, -0.331, \\ldots, -0.909]\n",
       "\\end{align*}\n"
      ],
      "text/plain": [
       "<qexec.optimize.latex.LatexRepr at 0x7f32582d1690>"
      ]
     },
     "execution_count": 10,
     "metadata": {},
     "output_type": "execute_result"
    }
   ],
   "source": [
    "maximize_returns.math"
   ]
  },
  {
   "cell_type": "markdown",
   "metadata": {},
   "source": [
    "The documentation for `MaximizeAlpha` warns us that we need to put a constraint on the gross exposure of our portfolio or else the optimizer will try to allocate an unbounded amount of capital, so we'll add a **`MaxGrossExposure`** constraint as well."
   ]
  },
  {
   "cell_type": "code",
   "execution_count": 11,
   "metadata": {
    "collapsed": false
   },
   "outputs": [
    {
     "name": "stdout",
     "output_type": "stream",
     "text": [
      "\n",
      "    Constraint on the maximum gross exposure for the portfolio.\n",
      "\n",
      "    Requires that the sum of the absolute values of the portfolio weights be\n",
      "    less than ``max``.\n",
      "\n",
      "    Parameters\n",
      "    ----------\n",
      "    max : float\n",
      "        The maximum gross exposure of the portfolio.\n",
      "\n",
      "    Examples\n",
      "    --------\n",
      "    ``MaxGrossExposure(1.5)`` constrains the total value of the\n",
      "    portfolios longs and shorts to be no more than 1.5x the current portfolio\n",
      "    value.\n",
      "    \n"
     ]
    }
   ],
   "source": [
    "print opt.MaxGrossExposure.__doc__"
   ]
  },
  {
   "cell_type": "code",
   "execution_count": 12,
   "metadata": {
    "collapsed": false
   },
   "outputs": [],
   "source": [
    "def optimal_portfolio_constrained_exposure_only():\n",
    "    \"\"\"Calculate the optimal portfolio if we're only constrained by gross exposure.\"\"\"\n",
    "    \n",
    "    # Our objective function.\n",
    "    objective = opt.MaximizeAlpha(expected_returns)\n",
    "    \n",
    "    # A list containing our constraints.\n",
    "    constraints = [opt.MaxGrossExposure(1.0)]\n",
    "    \n",
    "    return opt.calculate_optimal_portfolio(objective, constraints, empty_portfolio)"
   ]
  },
  {
   "cell_type": "code",
   "execution_count": 13,
   "metadata": {
    "collapsed": false
   },
   "outputs": [
    {
     "data": {
      "image/png": "[encoded data removed]",
      "text/plain": [
       "<matplotlib.figure.Figure at 0x7f32614a54d0>"
      ]
     },
     "metadata": {},
     "output_type": "display_data"
    }
   ],
   "source": [
    "constrained_exposure_pf = optimal_portfolio_constrained_exposure_only()\n",
    "draw_asset_barplot(constrained_exposure_pf, 'Optimal Portfolio (Constrained Exposure Only)');"
   ]
  },
  {
   "cell_type": "markdown",
   "metadata": {},
   "source": [
    "With no constraints other than maximizing expected return, the optimizer decided to allocate all of our capital to a single long position in `TWTR`. While this might be an acceptable portfolio for someone of a gambling disposition, we'd probably rather not put all our eggs in one basket.\n",
    "\n",
    "We can force the optimizer to diversify our portfolio by adding a **`PositionConcentration`** constraint:"
   ]
  },
  {
   "cell_type": "code",
   "execution_count": 14,
   "metadata": {
    "collapsed": false
   },
   "outputs": [
    {
     "name": "stdout",
     "output_type": "stream",
     "text": [
      "\n",
      "    Constraint enforcing minimum/maximum position weights.\n",
      "\n",
      "    Parameters\n",
      "    ----------\n",
      "    min_weights : pd.Series[Asset -> float] or dict[Asset -> float]\n",
      "        Map from asset to minimum position weight for that asset.\n",
      "    max_weights : pd.Series[Asset -> float] or dict[Asset -> float]\n",
      "        Map from asset to maximum position weight for that asset.\n",
      "    default_min_weight : float, optional\n",
      "        Value to use as a lower bound for assets not found in ``min_weights``.\n",
      "        Default is 0.0.\n",
      "    default_max_weight : float, optional\n",
      "        Value to use as a lower bound for assets not found in ``max_weights``.\n",
      "        Default is 0.0.\n",
      "    etf_lookthru : pd.DataFrame, optional\n",
      "        Indexed by constituent assets x ETFs, expresses the weight of each\n",
      "        constituent in each ETF.\n",
      "\n",
      "        A DataFrame containing ETF constituents data. Each column of the frame\n",
      "        should contain weights (from 0.0 to 1.0) representing the holdings for\n",
      "        an ETF. Each row should contain weights for a single stock in each\n",
      "        ETF. Columns should sum approximately to 1.0. If supplied, ETF\n",
      "        holdings in the current and target portfolio will be decomposed into\n",
      "        their constituents before constraints are applied.\n",
      "\n",
      "    Notes\n",
      "    -----\n",
      "    Negative weight values are interpreted as bounds on the magnitude of short\n",
      "    positions. A minimum weight of 0.0 constrains an asset to be long-only. A\n",
      "    maximum weight of 0.0 constrains an asset to be short-only.\n",
      "\n",
      "    A common special case is to create a PositionConcentration constraint that\n",
      "    applies a shared lower/upper bound to all assets. An alternate constructor,\n",
      "    :meth:`PositionConcentration.with_equal_bounds`, provides a simpler API\n",
      "    supporting this use-case.\n",
      "    \n"
     ]
    }
   ],
   "source": [
    "print opt.PositionConcentration.__doc__"
   ]
  },
  {
   "cell_type": "code",
   "execution_count": 15,
   "metadata": {
    "collapsed": false
   },
   "outputs": [
    {
     "name": "stdout",
     "output_type": "stream",
     "text": [
      "\n",
      "        Special case constructor that applies static lower and upper bounds to\n",
      "        all assets.\n",
      "\n",
      "        ::\n",
      "\n",
      "            PositionConcentration.with_equal_bounds(min, max)\n",
      "\n",
      "        is equivalent to::\n",
      "\n",
      "            PositionConcentration(pd.Series(), pd.Series(), min, max)\n",
      "\n",
      "        Parameters\n",
      "        ----------\n",
      "        min : float\n",
      "            Minimum position weight for all assets.\n",
      "        max : float\n",
      "            Maximum position weight for all assets.\n",
      "        \n"
     ]
    }
   ],
   "source": [
    "print opt.PositionConcentration.with_equal_bounds.__doc__"
   ]
  },
  {
   "cell_type": "code",
   "execution_count": 16,
   "metadata": {
    "collapsed": false
   },
   "outputs": [],
   "source": [
    "# Allow 15% of our liquidation value to be in any single short position.\n",
    "# Allow 30% of our liquidation value to be in any single long position.\n",
    "# Try changing these parameters to see how they change the results!\n",
    "MIN_POSITION_WEIGHT = -0.15\n",
    "MAX_POSITION_WEIGHT = 0.30\n",
    "\n",
    "def optimal_portfolio_constrained_exposure_and_concentration():\n",
    "    \"\"\"Calculate the optimal portfolio if we're constrained by exposure and concentration.\"\"\"\n",
    "    objective = opt.MaximizeAlpha(expected_returns)\n",
    "    constraints = [\n",
    "        opt.MaxGrossExposure(1.0),\n",
    "        opt.PositionConcentration.with_equal_bounds(\n",
    "            min=MIN_POSITION_WEIGHT, \n",
    "            max=MAX_POSITION_WEIGHT,\n",
    "        )\n",
    "    ]\n",
    "    return opt.calculate_optimal_portfolio(objective, constraints, empty_portfolio)"
   ]
  },
  {
   "cell_type": "code",
   "execution_count": 17,
   "metadata": {
    "collapsed": false,
    "scrolled": false
   },
   "outputs": [
    {
     "data": {
      "image/png": "[encoded data removed]",
      "text/plain": [
       "<matplotlib.figure.Figure at 0x7f3256323f50>"
      ]
     },
     "metadata": {},
     "output_type": "display_data"
    }
   ],
   "source": [
    "constrained_concentration_pf = optimal_portfolio_constrained_exposure_and_concentration()\n",
    "plot = draw_asset_barplot(\n",
    "    constrained_concentration_pf, \n",
    "    \"Optimal Portfolio (Constrained Exposure and Concentration)\",\n",
    "    {'ylim': (-MAX_POSITION_WEIGHT - 0.1, MAX_POSITION_WEIGHT + 0.1)},\n",
    ")\n",
    "plot.axhline(MIN_POSITION_WEIGHT, color='r', linestyle='dashed')\n",
    "plot.axhline(MAX_POSITION_WEIGHT, color='r', linestyle='dashed');"
   ]
  },
  {
   "cell_type": "markdown",
   "metadata": {},
   "source": [
    "With position size constraints, our portfolio is significantly more diverse than before.  The optimizer was forced to cap the long allocations to `TWTR` and `GM` at 30% of NLV (Net Liquidation Value), and it was forced to cap the short allocations to `MCD` and `BK` at 15% NLV.  The remaining 10% under the gross exposure cap went to `AAPL`."
   ]
  },
  {
   "cell_type": "markdown",
   "metadata": {},
   "source": [
    "### Adding Sector Constraints\n",
    "\n",
    "Eyeballing these distributions a bit, we might notice that we're heavily exposed to the technology and food service industries.  We can confirm that concern by using `Pipeline` to grab sector codes for our portfolio."
   ]
  },
  {
   "cell_type": "code",
   "execution_count": 18,
   "metadata": {
    "collapsed": false
   },
   "outputs": [],
   "source": [
    "from quantopian.pipeline import Pipeline\n",
    "from quantopian.pipeline.classifiers.morningstar import Sector\n",
    "from quantopian.pipeline.filters import StaticAssets\n",
    "from quantopian.research import run_pipeline\n",
    "\n",
    "\n",
    "def get_sector_names(stocks, date):\n",
    "    \"\"\"Get sector codes for a set of stocks for a particular date.\"\"\"\n",
    "    result = run_pipeline(\n",
    "        Pipeline({'sector': Sector()}, screen=StaticAssets(stocks)),\n",
    "        start_date=date,\n",
    "        end_date=date\n",
    "    )\n",
    "    # result will have a pd.MultiIndex whose first level just contains `date`.\n",
    "    # Drop the first level so that we just get assets as our index.\n",
    "    sector_codes = result['sector'].reset_index(level=0, drop=True)\n",
    "    \n",
    "    # Convert integral sector codes to human-readable strings by doing a lookup\n",
    "    # from Sector.SECTOR_NAMES, which is a dict mapping codes to strings.\n",
    "    #\n",
    "    # This is purely for readability of the charts below. \n",
    "    # We could proceed with the rest of the notebook using sector codes and it would work just fine.\n",
    "    return sector_codes.map(Sector.SECTOR_NAMES)"
   ]
  },
  {
   "cell_type": "code",
   "execution_count": 19,
   "metadata": {
    "collapsed": false
   },
   "outputs": [
    {
     "data": {
      "text/plain": [
       "Equity(24 [AAPL])              TECHNOLOGY\n",
       "Equity(4707 [MCD])      CONSUMER_CYCLICAL\n",
       "Equity(5061 [MSFT])            TECHNOLOGY\n",
       "Equity(8347 [XOM])                 ENERGY\n",
       "Equity(19675 [BP])                 ENERGY\n",
       "Equity(45815 [TWTR])           TECHNOLOGY\n",
       "Equity(48215 [QSR])     CONSUMER_CYCLICAL\n",
       "Name: sector, dtype: object"
      ]
     },
     "execution_count": 19,
     "metadata": {},
     "output_type": "execute_result"
    }
   ],
   "source": [
    "sector_names = get_sector_names(universe, '2016-10-07')\n",
    "sector_names"
   ]
  },
  {
   "cell_type": "code",
   "execution_count": 20,
   "metadata": {
    "collapsed": false
   },
   "outputs": [
    {
     "data": {
      "image/png": "[encoded data removed]",
      "text/plain": [
       "<matplotlib.figure.Figure at 0x7f3246663b50>"
      ]
     },
     "metadata": {},
     "output_type": "display_data"
    }
   ],
   "source": [
    "def plot_sector_exposure(pf, sectors):\n",
    "    return draw_barplot(\n",
    "        pf.groupby(sectors).sum(),\n",
    "        'Portfolio Concentration by Sector',\n",
    "    );\n",
    "\n",
    "plot_sector_exposure(constrained_concentration_pf, sector_names);"
   ]
  },
  {
   "cell_type": "markdown",
   "metadata": {},
   "source": [
    "As we suspected, we're heavily exposed to the technology sector, and we're moderately exposed to cyclical consumer goods.\n",
    "\n",
    "We can tell the optimizer to try to build a sector neutral portfolio by adding a `NetGroupExposure` constraint:"
   ]
  },
  {
   "cell_type": "code",
   "execution_count": 21,
   "metadata": {
    "collapsed": false
   },
   "outputs": [
    {
     "name": "stdout",
     "output_type": "stream",
     "text": [
      "\n",
      "    Constraint requiring bounded net exposure to groups of assets.\n",
      "\n",
      "    Groups are defined by map from (asset -> label). Each unique label\n",
      "    generates a constraint specifying that the sum of the weights of assets\n",
      "    mapped to that label should fall between a lower and upper bounds.\n",
      "\n",
      "    Min/Max group exposures are specified as maps from (label -> float).\n",
      "\n",
      "    Examples of common group labels are sector, industry, and country.\n",
      "\n",
      "    Parameters\n",
      "    ----------\n",
      "    labels : pd.Series[Asset -> object] or dict[Asset -> object]\n",
      "        Map from asset -> group label.\n",
      "    min_weights : pd.Series[object -> float] or dict[object -> float]\n",
      "        Map from group label to minimum net exposure to assets in that group.\n",
      "    max_weights : pd.Series[object -> float] or dict[object -> float]\n",
      "        Map from group label to maximum net exposure to assets in that group.\n",
      "    etf_lookthru : pd.DataFrame, optional\n",
      "        Indexed by constituent assets x ETFs, expresses the weight of each\n",
      "        constituent in each ETF.\n",
      "\n",
      "        A DataFrame containing ETF constituents data. Each column of the frame\n",
      "        should contain weights (from 0.0 to 1.0) representing the holdings for\n",
      "        an ETF. Each row should contain weights for a single stock in each\n",
      "        ETF. Columns should sum approximately to 1.0. If supplied, ETF\n",
      "        holdings in the current and target portfolio will be decomposed into\n",
      "        their constituents before constraints are applied.\n",
      "\n",
      "    Examples\n",
      "    --------\n",
      "    Suppose we're interested in four stocks: AAPL, MSFT, TSLA, and GM.\n",
      "\n",
      "    AAPL and MSFT are in the technology sector. TSLA and GM are in the consumer\n",
      "    cyclical sector. We want no more than 50% of our portfolio to be in the\n",
      "    technology sector, and we want no more than 25% of our portfolio to be in\n",
      "    the consumer cyclical sector.\n",
      "\n",
      "    We can construct a constraint expressing the above preferences as follows:\n",
      "\n",
      "    .. code-block:: python\n",
      "\n",
      "        # Map from each asset to its sector.\n",
      "        labels = {AAPL: 'TECH', MSFT: 'TECH', TSLA: 'CC', GM: 'CC'}\n",
      "\n",
      "        # Maps from each sector to its min/max exposure.\n",
      "        min_exposures = {'TECH': -0.5, 'CC': -0.25}\n",
      "        max_exposures = {'TECH': 0.5, 'CC': 0.5}\n",
      "\n",
      "        constraint = NetGroupExposure(labels, min_exposures, max_exposures)\n",
      "\n",
      "    Notes\n",
      "    -----\n",
      "    For a group that should not have a lower exposure bound, set::\n",
      "\n",
      "        min_weights[group_label] = opt.NotConstrained\n",
      "\n",
      "    For a group that should not have an upper exposure bound, set::\n",
      "\n",
      "        max_weights[group_label] = opt.NotConstrained\n",
      "    \n"
     ]
    }
   ],
   "source": [
    "print opt.NetGroupExposure.__doc__"
   ]
  },
  {
   "cell_type": "code",
   "execution_count": 22,
   "metadata": {
    "collapsed": false
   },
   "outputs": [],
   "source": [
    "ALL_SECTOR_NAMES = Sector.SECTOR_NAMES.values()\n",
    "MIN_SECTOR_EXPOSURE = -0.0001\n",
    "MAX_SECTOR_EXPOSURE = 0.0001\n",
    "\n",
    "def optimal_portfolio_sector_neutral():\n",
    "    \"\"\"\n",
    "    Calculate the optimal portfolio if we're constrained by exposure, concentration,\n",
    "    and sector neutrality.\n",
    "    \"\"\"\n",
    "    objective = opt.MaximizeAlpha(expected_returns)\n",
    "    constraints = [\n",
    "        opt.MaxGrossExposure(1.0),\n",
    "        opt.PositionConcentration.with_equal_bounds(\n",
    "            min=MIN_POSITION_WEIGHT, \n",
    "            max=MAX_POSITION_WEIGHT,\n",
    "        ),\n",
    "        opt.NetPartitionExposure(\n",
    "            labels=sector_names,\n",
    "            min_weights={sector: MIN_SECTOR_EXPOSURE for sector in ALL_SECTOR_NAMES},\n",
    "            max_weights={sector: MAX_SECTOR_EXPOSURE for sector in ALL_SECTOR_NAMES},\n",
    "        )\n",
    "    ]\n",
    "    return opt.calculate_optimal_portfolio(objective, constraints, empty_portfolio)"
   ]
  },
  {
   "cell_type": "code",
   "execution_count": 23,
   "metadata": {
    "collapsed": false
   },
   "outputs": [
    {
     "data": {
      "image/png": "[encoded data removed]",
      "text/plain": [
       "<matplotlib.figure.Figure at 0x7f3246746210>"
      ]
     },
     "metadata": {},
     "output_type": "display_data"
    }
   ],
   "source": [
    "optimal_sector_neutral_pf = optimal_portfolio_sector_neutral()\n",
    "plot = draw_asset_barplot(\n",
    "    optimal_sector_neutral_pf, \n",
    "    'Optimal Portfolio (Sector Neutral)',\n",
    "    {'ylim': (-MAX_POSITION_WEIGHT - 0.1, MAX_POSITION_WEIGHT + 0.1)},\n",
    ")\n",
    "plot.axhline(MIN_POSITION_WEIGHT, color='r', linestyle='dashed')\n",
    "plot.axhline(MAX_POSITION_WEIGHT, color='r', linestyle='dashed');"
   ]
  },
  {
   "cell_type": "code",
   "execution_count": 24,
   "metadata": {
    "collapsed": false
   },
   "outputs": [
    {
     "data": {
      "image/png": "[encoded data removed]",
      "text/plain": [
       "<matplotlib.figure.Figure at 0x7f32465ec110>"
      ]
     },
     "metadata": {},
     "output_type": "display_data"
    }
   ],
   "source": [
    "plot = plot_sector_exposure(optimal_sector_neutral_pf, sector_names);\n",
    "plot.axhline(MIN_SECTOR_EXPOSURE, color='r', linestyle='dashed')\n",
    "plot.axhline(MAX_SECTOR_EXPOSURE, color='r', linestyle='dashed');"
   ]
  },
  {
   "cell_type": "markdown",
   "metadata": {},
   "source": [
    "With our partition exposure constraint in place, the optimizer chooses to hedge our large `TWTR` position with shorts in `AAPL` in `MSFT`. The optimizer also reigns in the large long in `MCD` from 30% to 15%, because our 15% short exposure constraint prevents us from getting a equal-sized hedge in `QSR`, which is the only other `CONSUMER_CYCLICAL` stock in our universe. That leaves 10% of our capital unallocated, so the optimizer divides it evenly into a pair on `BP` and `XOM`."
   ]
  },
  {
   "cell_type": "markdown",
   "metadata": {},
   "source": [
    "### Constraining Risk Factor Exposures\n",
    "\n",
    "So far we've looked at constraining our portfolio by restricting how much value we allow the optimizer to allocate to groupings of assets at various levels of granularity:\n",
    "\n",
    "- We used `MaxGrossExposure` to limit the amount of value the optimizer allocated to the largest possible group: the group of **all assets**.\n",
    "- On the other end of the spectrum, we used `PositionConcentration` to limit how much value the optimizer allocated to the smallest possible groups: the groups containing individual assets.\n",
    "- Between these two extremes, we used `NetGroupExposure` to control how much value the optimizer allocated to any single sector.\n",
    "\n",
    "While these are all reasonable applications of the Optimize API, sometimes we want control our portfolio in ways that are more sophisticated than just controlling the value allocated to particular groups of assets.\n",
    "\n",
    "A different technique for controlling risk is to associate each asset in our portfolio with a set of **risk factors** that describe how an asset's price has moved historically with respect to some common source of risk. For each risk factor, we can then set upper and lower bounds on the **factor-weighted** exposure of our portfolio.\n",
    "\n",
    "The most commonly-used risk factor is market beta, which in the simplest case is calculated as the slope of a linear regression between an asset's returns and the returns of \"the market\". Other common risk factors are \"size\" (measured as a function of market cap, for example) and \"value\"."
   ]
  },
  {
   "cell_type": "code",
   "execution_count": 25,
   "metadata": {
    "collapsed": true
   },
   "outputs": [],
   "source": [
    "from quantopian.pipeline.factors import RollingLinearRegressionOfReturns\n",
    "from quantopian.pipeline.data import Fundamentals\n",
    "\n",
    "def get_risk_factors(stocks, date):\n",
    "    # Measure beta as the slope of a linear regression of 60 days of daily close-to-close returns.\n",
    "    # Each asset's returns are regressed against the returns of SPY.\n",
    "    empirical_regression_coeffs = RollingLinearRegressionOfReturns(\n",
    "        target=symbols('SPY'),\n",
    "        returns_length=2,\n",
    "        regression_length=60,\n",
    "        mask=StaticAssets(stocks),\n",
    "    )\n",
    "    # RollingLinearRegressionOfReturns calculates a bunch of coefficients, \n",
    "    # but we only care about beta for this example.\n",
    "    empirical_beta = empirical_regression_coeffs.beta\n",
    "    \n",
    "    # Measure size by taking the z-score of the log of market cap.\n",
    "    # Taking the log of market cap is common because company sizes are\n",
    "    # distributed exponentially.\n",
    "    log_mcap_zscore = Fundamentals.market_cap.latest.log().zscore()\n",
    "    \n",
    "    # Measure value using book value yield.\n",
    "    book_value_yield = Fundamentals.book_value_yield.latest.zscore()\n",
    "    \n",
    "    factor_terms = {\n",
    "        'market': empirical_beta,\n",
    "        'size': log_mcap_zscore,\n",
    "        'value': book_value_yield,\n",
    "    }\n",
    "    \n",
    "    result = run_pipeline(\n",
    "        Pipeline(factor_terms, screen=StaticAssets(stocks)),\n",
    "        start_date=date,\n",
    "        end_date=date\n",
    "    )\n",
    "    # Drop dates from the index of the returned frame.\n",
    "    return result.reset_index(level=0, drop=True)"
   ]
  },
  {
   "cell_type": "code",
   "execution_count": 26,
   "metadata": {
    "collapsed": false
   },
   "outputs": [
    {
     "data": {
      "text/html": [
       "<div>\n",
       "<table border=\"1\" class=\"dataframe\">\n",
       "  <thead>\n",
       "    <tr style=\"text-align: right;\">\n",
       "      <th></th>\n",
       "      <th>market</th>\n",
       "      <th>size</th>\n",
       "      <th>value</th>\n",
       "    </tr>\n",
       "  </thead>\n",
       "  <tbody>\n",
       "    <tr>\n",
       "      <th>Equity(24 [AAPL])</th>\n",
       "      <td>0.881295</td>\n",
       "      <td>3.049261</td>\n",
       "      <td>-0.035366</td>\n",
       "    </tr>\n",
       "    <tr>\n",
       "      <th>Equity(4707 [MCD])</th>\n",
       "      <td>0.566868</td>\n",
       "      <td>2.210673</td>\n",
       "      <td>-0.062235</td>\n",
       "    </tr>\n",
       "    <tr>\n",
       "      <th>Equity(5061 [MSFT])</th>\n",
       "      <td>1.088901</td>\n",
       "      <td>2.908003</td>\n",
       "      <td>-0.041585</td>\n",
       "    </tr>\n",
       "    <tr>\n",
       "      <th>Equity(8347 [XOM])</th>\n",
       "      <td>0.933150</td>\n",
       "      <td>2.807673</td>\n",
       "      <td>0.000507</td>\n",
       "    </tr>\n",
       "    <tr>\n",
       "      <th>Equity(19675 [BP])</th>\n",
       "      <td>1.039710</td>\n",
       "      <td>2.277613</td>\n",
       "      <td>0.047715</td>\n",
       "    </tr>\n",
       "  </tbody>\n",
       "</table>\n",
       "</div>"
      ],
      "text/plain": [
       "                       market      size     value\n",
       "Equity(24 [AAPL])    0.881295  3.049261 -0.035366\n",
       "Equity(4707 [MCD])   0.566868  2.210673 -0.062235\n",
       "Equity(5061 [MSFT])  1.088901  2.908003 -0.041585\n",
       "Equity(8347 [XOM])   0.933150  2.807673  0.000507\n",
       "Equity(19675 [BP])   1.039710  2.277613  0.047715"
      ]
     },
     "execution_count": 26,
     "metadata": {},
     "output_type": "execute_result"
    }
   ],
   "source": [
    "risk_factors = get_risk_factors(universe, '2016-10-07')\n",
    "risk_factors.head()"
   ]
  },
  {
   "cell_type": "markdown",
   "metadata": {},
   "source": [
    "Lets look at how our how heavily our previous sector-neutral portfolio is exposed to these risk factors:"
   ]
  },
  {
   "cell_type": "code",
   "execution_count": 27,
   "metadata": {
    "collapsed": false
   },
   "outputs": [
    {
     "data": {
      "image/png": "[encoded data removed]",
      "text/plain": [
       "<matplotlib.figure.Figure at 0x7f32451a31d0>"
      ]
     },
     "metadata": {},
     "output_type": "display_data"
    }
   ],
   "source": [
    "def plot_factor_exposures(pf, factor_loadings):\n",
    "    return draw_barplot(\n",
    "        pf.dot(factor_loadings),\n",
    "        'Portfolio Factor Exposures',\n",
    "    );\n",
    "plot_factor_exposures(optimal_sector_neutral_pf, risk_factors);"
   ]
  },
  {
   "cell_type": "markdown",
   "metadata": {},
   "source": [
    "Our sector neutral portfolio appears to have a strong negative exposure to our `market` and `size` factors. We can force the optimizer to control for these effects using a `FactorExposure` constraint."
   ]
  },
  {
   "cell_type": "code",
   "execution_count": 28,
   "metadata": {
    "collapsed": false
   },
   "outputs": [
    {
     "name": "stdout",
     "output_type": "stream",
     "text": [
      "\n",
      "    Constraint requiring bounded net exposure to a set of risk factors.\n",
      "\n",
      "    Factor loadings are specified as a DataFrame of floats whose columns are\n",
      "    factor labels and whose index contains Assets. Minimum and maximum factor\n",
      "    exposures are specified as maps from factor label to min/max net exposure.\n",
      "\n",
      "    For each column in the loadings frame, we constrain::\n",
      "\n",
      "        (new_weights * loadings[column]).sum() >= min_exposure[column]\n",
      "        (new_weights * loadings[column]).sum() <= max_exposure[column]\n",
      "\n",
      "    Parameters\n",
      "    ----------\n",
      "    loadings : pd.DataFrame\n",
      "         An (assets x labels) frame of weights for each (asset, factor) pair.\n",
      "    min_exposures : dict or pd.Series\n",
      "         Minimum net exposure values for each factor.\n",
      "    max_exposures : dict or pd.Series\n",
      "         Maximum net exposure values for each factor.\n",
      "    \n"
     ]
    }
   ],
   "source": [
    "print opt.FactorExposure.__doc__"
   ]
  },
  {
   "cell_type": "code",
   "execution_count": 29,
   "metadata": {
    "collapsed": false
   },
   "outputs": [],
   "source": [
    "MIN_FACTOR_EXPOSURE = -0.01\n",
    "MAX_FACTOR_EXPOSURE = 0.01\n",
    "\n",
    "def optimal_portfolio_factor_neutral():\n",
    "    \"\"\"\n",
    "    Calculate the optimal portfolio if we're constrained by exposure, concentration,\n",
    "    sector, and market/size/value exposures.\n",
    "    \"\"\"\n",
    "    objective = opt.MaximizeAlpha(expected_returns)\n",
    "    constraints = [\n",
    "        opt.MaxGrossExposure(1.0),\n",
    "        opt.PositionConcentration.with_equal_bounds(\n",
    "            min=MIN_POSITION_WEIGHT, \n",
    "            max=MAX_POSITION_WEIGHT,\n",
    "        ),\n",
    "        opt.NetPartitionExposure(\n",
    "            labels=sector_names,\n",
    "            min_weights={sector: MIN_SECTOR_EXPOSURE for sector in ALL_SECTOR_NAMES},\n",
    "            max_weights={sector: MAX_SECTOR_EXPOSURE for sector in ALL_SECTOR_NAMES},\n",
    "        ),\n",
    "        opt.FactorExposure(\n",
    "            loadings=risk_factors,\n",
    "            min_exposures={'market': MIN_FACTOR_EXPOSURE, \n",
    "                           'size': MIN_FACTOR_EXPOSURE, \n",
    "                           'value': MIN_FACTOR_EXPOSURE},\n",
    "            max_exposures={'market': MAX_FACTOR_EXPOSURE, \n",
    "                           'size': MAX_FACTOR_EXPOSURE, \n",
    "                           'value': MAX_FACTOR_EXPOSURE}\n",
    "        )\n",
    "    ]\n",
    "    return opt.calculate_optimal_portfolio(objective, constraints, empty_portfolio)"
   ]
  },
  {
   "cell_type": "code",
   "execution_count": 30,
   "metadata": {
    "collapsed": false
   },
   "outputs": [
    {
     "data": {
      "image/png": "[encoded data removed]",
      "text/plain": [
       "<matplotlib.figure.Figure at 0x7f3246b27190>"
      ]
     },
     "metadata": {},
     "output_type": "display_data"
    }
   ],
   "source": [
    "optimal_factor_neutral_pf = optimal_portfolio_factor_neutral()\n",
    "plot = draw_asset_barplot(\n",
    "    optimal_factor_neutral_pf, \n",
    "    'Optimal Portfolio (Factor Neutral)',\n",
    "    {'ylim': (-MAX_POSITION_WEIGHT - 0.1, MAX_POSITION_WEIGHT + 0.1)},\n",
    ")"
   ]
  },
  {
   "cell_type": "code",
   "execution_count": 31,
   "metadata": {
    "collapsed": false
   },
   "outputs": [
    {
     "data": {
      "image/png": "[encoded data removed]",
      "text/plain": [
       "<matplotlib.figure.Figure at 0x7f3244f5ccd0>"
      ]
     },
     "metadata": {},
     "output_type": "display_data"
    }
   ],
   "source": [
    "plot = plot_factor_exposures(optimal_factor_neutral_pf, risk_factors);\n",
    "plot.axhline(MIN_FACTOR_EXPOSURE, color='r', linestyle='dashed')\n",
    "plot.axhline(MAX_FACTOR_EXPOSURE, color='r', linestyle='dashed');"
   ]
  },
  {
   "cell_type": "markdown",
   "metadata": {},
   "source": [
    "### Example: Minimize Distance from Target Portfolio with Turnover Constraints\n",
    "\n",
    "Many algorithms written on Quantopian today perform stock selection via a process other than explicit returns/alpha-modeling. Pair-trading algorithms, for example, work by identifying pairs of [cointegrated](https://www.quantopian.com/posts/quantopian-lecture-series-integration-cointegration-and-stationarity) stocks and entering into a long position in one half of the pair and a short position in the other half of the pair.\n",
    "\n",
    "For these existing algorithms (or for new algorithms written in a style other than alpha-modeling), it may not be natural to express portfolio construction in terms of an explicit alpha-maximization problem.\n",
    "Nevertheless, it may still be useful to frame the portfolio construction process as an optimization problem using different objectives and constraints."
   ]
  },
  {
   "cell_type": "markdown",
   "metadata": {},
   "source": [
    "Suppose we have an algorithm that trades in four pairs and periodically decides which of the pairs it should allocate capital toward. Via its own internal logic, the algorithm arrives at a \"target portfolio\" that expresses its ideal holdings. The algorithm wants to trade from its current holdings into its ideal holdings, but it doesn't turn over its entire portfolio at once because doing so may incur excessive transaction costs.  The algorithm also wants to ensure that it maintains a net exposure of 0 in all of its pairs.\n",
    "\n",
    "We can frame this as an optimization problem as follows:\n",
    "\n",
    "Minimize the distance between the new portfolio and the ideal portfolio, subject to the constraints that:\n",
    "\n",
    "1. The long components of our pairs have a weights $\\geq$ 0.\n",
    "2. The short components of our pairs have weights $\\leq$ 0.\n",
    "3. The sum of the weights in each of our pairs is 0.\n",
    "4. The sum of the absolute values of the changes in weight across all stocks is less than our max turnover.\n",
    "\n",
    "In fancy math language, we can say the following:\n",
    "\n",
    "Given a vector $W_{current}$ of current portfolio weights, a vector $W_{ideal}$ of ideal portfolio weights, a maximum turnover rate $T_{max}$, and a list of pairs of long/short stocks $P = [(l_1, s_1), (l_2, s_2), \\dots, (l_n, s_n)]$, choose a vector $w$ of weights that solves the following system:\n",
    "\n",
    "\\begin{align}\n",
    "\\text{minimize}&& \\\\\n",
    "&&||w - W_{ideal}||_2 \\\\\n",
    "\\text{subject to}&& \\\\\n",
    "&&w_l &\\geq 0&& l \\in [l_1, l_2, \\dots, l_n] \\\\\n",
    "&&w_s &\\leq 0&& s \\in [s_1, s_2, \\dots, s_n] \\\\\n",
    "&&w_l + w_s &= 0&& (l, s) \\in P \\\\\n",
    "&&||w - W_{current}||_1 &\\leq T_{max}&& \\\\\n",
    "\\end{align}\n",
    "\n",
    "(In the above, $||v||_1$ is the $L^1$ norm of $v$, or the [\"Taxicab Norm\"](https://en.wikipedia.org/wiki/Norm_%28mathematics%29#Taxicab_norm_or_Manhattan_norm), and $||v||_2$ is the $L^2$ norm of $v$, i.e, the standard [Euclidean Norm](https://en.wikipedia.org/wiki/Norm_%28mathematics%29#Euclidean_norm).)"
   ]
  },
  {
   "cell_type": "markdown",
   "metadata": {},
   "source": [
    "While the mathematical definition of the problem here is a bit hairy, we can express the problem succintly using the `TargetWeights` objective and the `Pair` and `MaxTurnover` constraints."
   ]
  },
  {
   "cell_type": "code",
   "execution_count": 32,
   "metadata": {
    "collapsed": false
   },
   "outputs": [
    {
     "data": {
      "image/png": "[encoded data removed]",
      "text/plain": [
       "<matplotlib.figure.Figure at 0x7f3246c23850>"
      ]
     },
     "metadata": {},
     "output_type": "display_data"
    }
   ],
   "source": [
    "from itertools import chain\n",
    "\n",
    "pairs = [\n",
    "    symbols(['AAPL', 'MSFT']),\n",
    "    symbols(['GM', 'F']),\n",
    "    symbols(['MCD', 'QSR']),\n",
    "    symbols(['BP', 'XOM']),\n",
    "]\n",
    "\n",
    "# Flatten the list of pairs into a single list for use as an index.\n",
    "all_pair_stocks = list(chain.from_iterable(pairs))\n",
    "\n",
    "# Initially allocate half of our capital in the AAPL/MSFT pair and half in the GM/F pair.\n",
    "initial_pairs_portfolio = pd.Series({\n",
    "    pairs[0][0]:  0.25,  # AAPL\n",
    "    pairs[0][1]: -0.25,  # MSFT\n",
    "    pairs[1][0]:  0.25,  # GM\n",
    "    pairs[1][1]: -0.25,  # F\n",
    "}).reindex(\n",
    "    all_pair_stocks, \n",
    "    fill_value=0.0,\n",
    ")\n",
    "\n",
    "draw_asset_barplot(initial_pairs_portfolio, 'Initial Pairs Portfolio');"
   ]
  },
  {
   "cell_type": "markdown",
   "metadata": {},
   "source": [
    "Suppose that after some period of time, our algorithm decides that it wants to exit the `AAPL/MSFT` pair and enter the `MCD/QSR` and `BP/XOM` pairs.  It might calculate a new target portfolio that's equally-weighted between the three new pairs."
   ]
  },
  {
   "cell_type": "code",
   "execution_count": 33,
   "metadata": {
    "collapsed": false
   },
   "outputs": [
    {
     "data": {
      "image/png": "[encoded data removed]",
      "text/plain": [
       "<matplotlib.figure.Figure at 0x7f3245538110>"
      ]
     },
     "metadata": {},
     "output_type": "display_data"
    }
   ],
   "source": [
    "target_pairs_portfolio = pd.Series({\n",
    "    pairs[0][0]:  0.16666,\n",
    "    pairs[0][1]: -0.16666,\n",
    "    pairs[2][0]:  0.16666,\n",
    "    pairs[2][1]: -0.16666,\n",
    "    pairs[3][0]:  0.16666,\n",
    "    pairs[3][1]: -0.16666,\n",
    "}).reindex(\n",
    "    all_pair_stocks, \n",
    "    fill_value=0.0,\n",
    ")\n",
    "\n",
    "draw_asset_barplot(target_pairs_portfolio, 'Target Pairs Portfolio');"
   ]
  },
  {
   "cell_type": "markdown",
   "metadata": {},
   "source": [
    "If we naively run `calculate_target_weights` using an unconstrained `TargetWeights` objective, we'll get back our target.  But if we supply turnover and pairs constraints, we'll move our capital incrementally out of the current pairs and into the new ones:"
   ]
  },
  {
   "cell_type": "code",
   "execution_count": 34,
   "metadata": {
    "collapsed": false
   },
   "outputs": [
    {
     "name": "stdout",
     "output_type": "stream",
     "text": [
      "\n",
      "    Objective that minimizes the distance from an already-computed portfolio.\n",
      "\n",
      "    Parameters\n",
      "    ----------\n",
      "    weights : pd.Series[Asset -> float] or dict[Asset -> float]\n",
      "        Map from asset to target percentage of holdings.\n",
      "\n",
      "    Notes\n",
      "    -----\n",
      "    A target value of 1.0 indicates that 100% of the portfolio's current net\n",
      "    liquidation value should be held in a long position in the corresponding\n",
      "    asset.\n",
      "\n",
      "    A target value of -1.0 indicates that -100% of the portfolio's current net\n",
      "    liquidation value should be held in a short position in the corresponding\n",
      "    asset.\n",
      "\n",
      "    Assets with target values of exactly 0.0 are ignored unless an algorithm\n",
      "    has an existing position in the given asset.\n",
      "\n",
      "    If an algorithm has an existing position in an asset and no target weight\n",
      "    is provided, the target weight is assumed to be zero.\n",
      "    \n"
     ]
    }
   ],
   "source": [
    "print opt.TargetWeights.__doc__"
   ]
  },
  {
   "cell_type": "code",
   "execution_count": 35,
   "metadata": {
    "collapsed": false
   },
   "outputs": [
    {
     "data": {
      "text/latex": [
       "\n",
       "\\begin{align*}\n",
       "&\\underset{\\boldsymbol{w}}{\\text{minimize}} && ||\\boldsymbol{w} - \\boldsymbol{t}||_2 \\\\\n",
       "&\\text{where} &&\\boldsymbol{t} = [0.167, -0.167, \\ldots, -0.167]\n",
       "\\end{align*}\n"
      ],
      "text/plain": [
       "<qexec.optimize.latex.LatexRepr at 0x7f3245078790>"
      ]
     },
     "execution_count": 35,
     "metadata": {},
     "output_type": "execute_result"
    }
   ],
   "source": [
    "opt.TargetWeights(target_pairs_portfolio).math"
   ]
  },
  {
   "cell_type": "code",
   "execution_count": 36,
   "metadata": {
    "collapsed": false
   },
   "outputs": [
    {
     "name": "stdout",
     "output_type": "stream",
     "text": [
      "\n",
      "    A constraint representing a pair of inverse-weighted stocks.\n",
      "\n",
      "    Parameters\n",
      "    ----------\n",
      "    long : Asset\n",
      "        The asset to long.\n",
      "    short : Asset\n",
      "        The asset to short.\n",
      "    hedge_ratio : float, optional\n",
      "        The ratio between the respective absolute values of the long and short\n",
      "        weights. Required to be greater than 0. Default is 1.0, signifying\n",
      "        equal weighting.\n",
      "    tolerance : float, optional\n",
      "        The amount by which the hedge ratio of the calculated weights is\n",
      "        allowed to differ from the given hedge ratio, in either direction.\n",
      "        Required to be greater than or equal to 0. Default is 0.0.\n",
      "    \n"
     ]
    }
   ],
   "source": [
    "print opt.Pair.__doc__"
   ]
  },
  {
   "cell_type": "code",
   "execution_count": 37,
   "metadata": {
    "collapsed": false
   },
   "outputs": [
    {
     "name": "stdout",
     "output_type": "stream",
     "text": [
      "\n",
      "    A constraint enforcing a maximum turnover for the optimal portfolio.\n",
      "\n",
      "    Turnover is computed as the sum of the magnitude of the difference in\n",
      "    weights for each asset in the portfolio, i.e., as::\n",
      "\n",
      "        sum(abs(new_weights - old_weights))\n",
      "\n",
      "    Parameters\n",
      "    ----------\n",
      "    max : float\n",
      "        The maximum allowable turnover across the whole portfolio.\n",
      "    \n"
     ]
    }
   ],
   "source": [
    "print opt.MaxTurnover.__doc__"
   ]
  },
  {
   "cell_type": "code",
   "execution_count": 38,
   "metadata": {
    "collapsed": false
   },
   "outputs": [],
   "source": [
    "def migrate_pairs_constrain_turnover(current_pf, target_pf, max_turnover):\n",
    "    \"\"\"Calculate a new target portfolio while respecting turnover and pair constraints.\"\"\"\n",
    "    objective = opt.TargetWeights(target_pf)\n",
    "    \n",
    "    constraints = [opt.Pair(long, short) for long, short in pairs]\n",
    "    constraints.append(opt.MaxTurnover(max_turnover))\n",
    "    \n",
    "    return opt.calculate_optimal_portfolio(\n",
    "        objective=objective,\n",
    "        constraints=constraints,\n",
    "        current_portfolio=current_pf,\n",
    "    )"
   ]
  },
  {
   "cell_type": "code",
   "execution_count": 39,
   "metadata": {
    "collapsed": false
   },
   "outputs": [],
   "source": [
    "# Try changing with the `MAX_TURNOVER` parameter here to see how it affects\n",
    "# the resulting portfolio!\n",
    "MAX_TURNOVER = 0.75\n",
    "\n",
    "migrated_pairs_portfolio = migrate_pairs_constrain_turnover(\n",
    "    current_pf=initial_pairs_portfolio,\n",
    "    target_pf=target_pairs_portfolio,\n",
    "    max_turnover=MAX_TURNOVER,\n",
    ")"
   ]
  },
  {
   "cell_type": "code",
   "execution_count": 40,
   "metadata": {
    "collapsed": false
   },
   "outputs": [
    {
     "data": {
      "image/png": "[encoded data removed]",
      "text/plain": [
       "<matplotlib.figure.Figure at 0x7f326b069410>"
      ]
     },
     "metadata": {},
     "output_type": "display_data"
    }
   ],
   "source": [
    "before_and_after_frame = pd.DataFrame(\n",
    "    {\n",
    "        'Initial Weight': initial_pairs_portfolio,\n",
    "        'Migrated Weight': migrated_pairs_portfolio,\n",
    "        'Target Weight': target_pairs_portfolio,\n",
    "    },\n",
    "    # Explicitly set a column order so that the plot below is\n",
    "    # created in the order we want.\n",
    "    columns=['Initial Weight', 'Migrated Weight', 'Target Weight']\n",
    ")\n",
    "\n",
    "ax = draw_asset_barplot(\n",
    "    before_and_after_frame,\n",
    "    # The fancy brace syntax here is a format specification.\n",
    "    # See https://docs.python.org/2/library/string.html#formatspec for more info.\n",
    "    'Optimal Portfolio: {0:.0f}% Max Turnover '.format(MAX_TURNOVER * 100),\n",
    ");"
   ]
  },
  {
   "cell_type": "markdown",
   "metadata": {},
   "source": [
    "Since the optimizer can't reach its target portfolio without violating the `MaxTurnover` constraint, it attempts to equalize the size of the difference between each stock's output weight and it's target weight."
   ]
  },
  {
   "cell_type": "code",
   "execution_count": 41,
   "metadata": {
    "collapsed": false
   },
   "outputs": [
    {
     "name": "stdout",
     "output_type": "stream",
     "text": [
      "Total Turnover: 0.750000\n",
      "\n",
      "Absolute Difference from Target Weight:\n",
      "\n",
      "Equity(24 [AAPL])      0.072915\n",
      "Equity(5061 [MSFT])    0.072915\n",
      "Equity(40430 [GM])     0.072915\n",
      "Equity(2673 [F])       0.072915\n",
      "Equity(4707 [MCD])     0.072915\n",
      "Equity(48215 [QSR])    0.072915\n",
      "Equity(19675 [BP])     0.072915\n",
      "Equity(8347 [XOM])     0.072915\n",
      "dtype: float64\n"
     ]
    }
   ],
   "source": [
    "print \"Total Turnover: %f\\n\" % (migrated_pairs_portfolio - initial_pairs_portfolio).abs().sum()\n",
    "print \"Absolute Difference from Target Weight:\\n\"\n",
    "print (migrated_pairs_portfolio - target_pairs_portfolio).abs()"
   ]
  },
  {
   "cell_type": "markdown",
   "metadata": {},
   "source": [
    "# Debugging and Diagnostics\n",
    "\n",
    "One issue users may encounter when using the Optimize API is that it’s possible to accidentally ask the optimizer to solve problems for which no solution exists. This can happen, for example, if we provide the optimizer with two mutually-exclusive constraints.\n",
    "\n",
    "If the optimizer determines that no portfolio can satisfy all the constraints we've provided, it raises an `InfeasibleConstraints` error. Debugging `InfeasibleConstraints` can be tricky: since different portfolios might violate different constraints, there isn't necessarily a single constraint we can point to as being the source of infeasibility.\n",
    "\n",
    "One observation that can help us when we encounter infeasible constraints is to note that there are certain \"special\" portfolios that we might have expected to pass our constraints. We can often figure out the problem with our optimization by examining the constraints that were violated by these special portfolios.\n",
    "\n",
    "When an `InfeasibleConstraints` error is raised, the optimizer examines a small number of these portfolios and produces an error message detailing the constraints that were violated by each tested portfolio. The portfolios current exampled by the optimizer for diagnostics are:\n",
    "\n",
    "1. The current portfolio.\n",
    "2. An empty portfolio.\n",
    "3. The target portfolio (only applies when using `TargetWeights`)."
   ]
  },
  {
   "cell_type": "markdown",
   "metadata": {},
   "source": [
    "### Example:\n",
    "\n",
    "Suppose we have a portfolio that currently has long and short positions worth 10% of our portfolio value in `AAPL` and `MSFT`, respectively."
   ]
  },
  {
   "cell_type": "code",
   "execution_count": 42,
   "metadata": {
    "collapsed": true
   },
   "outputs": [],
   "source": [
    "AAPL, MSFT = symbols(['AAPL', 'MSFT'])\n",
    "current_weights = pd.Series({AAPL: 0.1, MSFT: -0.1})"
   ]
  },
  {
   "cell_type": "markdown",
   "metadata": {},
   "source": [
    "We use `TargetWeights` as our objective to try to close the `MSFT` position."
   ]
  },
  {
   "cell_type": "code",
   "execution_count": 43,
   "metadata": {
    "collapsed": true
   },
   "outputs": [],
   "source": [
    "objective = opt.TargetWeights({AAPL: 0.1, MSFT: 0.0})"
   ]
  },
  {
   "cell_type": "markdown",
   "metadata": {},
   "source": [
    "We also define three mutually-exclusive constraints:\n",
    "\n",
    "- Our portfolio must be dollar-neutral (i.e., it must have the same amount invested long and short). Our target portfolio violates this constraint.\n",
    "- Fixed weight in `AAPL`. This simulates what might happen if `AAPL` were subject to a trading halt during the day. An empty portfolio would violate this constraint.\n",
    "- Cannot short `MSFT`. The current portfolio violates this constraint."
   ]
  },
  {
   "cell_type": "code",
   "execution_count": 44,
   "metadata": {
    "collapsed": true
   },
   "outputs": [],
   "source": [
    "impossible_constraints = [\n",
    "    opt.DollarNeutral(tolerance=0.01), \n",
    "    opt.FixedWeight(AAPL, 0.1),\n",
    "    opt.LongOnly(MSFT),\n",
    "]"
   ]
  },
  {
   "cell_type": "code",
   "execution_count": 45,
   "metadata": {
    "collapsed": false
   },
   "outputs": [
    {
     "ename": "InfeasibleConstraints",
     "evalue": "The attempted optimization failed because no portfolio could be found that\nsatisfied all required constraints.\n\nThe following special portfolios were spot checked and found to be in violation\nof at least one constraint:\n\nTarget Portfolio (as provided to TargetWeights):\n\n   Would violate DollarNeutral() because:\n      Net exposure (0.1) would be greater than max net exposure (0.01).\n\nCurrent Portfolio (at the time of the optimization):\n\n   Would violate FixedWeight(Equity(24 [AAPL])) because:\n      New weight (0.0) would not equal required weight (0.1).\n\nEmpty Portfolio (no positions):\n\n   Would violate FixedWeight(Equity(24 [AAPL])) because:\n      New weight (0.0) would not equal required weight (0.1).",
     "output_type": "error",
     "traceback": [
      "InfeasibleConstraints:",
      "",
      "The attempted optimization failed because no portfolio could be found that\nsatisfied all required constraints.\n\nThe following special portfolios were spot checked and found to be in violation\nof at least one constraint:\n\nTarget Portfolio (as provided to TargetWeights):\n\n   Would violate DollarNeutral() because:\n      Net exposure (0.1) would be greater than max net exposure (0.01).\n\nCurrent Portfolio (at the time of the optimization):\n\n   Would violate FixedWeight(Equity(24 [AAPL])) because:\n      New weight (0.0) would not equal required weight (0.1).\n\nEmpty Portfolio (no positions):\n\n   Would violate FixedWeight(Equity(24 [AAPL])) because:\n      New weight (0.0) would not equal required weight (0.1)."
     ]
    }
   ],
   "source": [
    "opt.calculate_optimal_portfolio(objective, impossible_constraints)"
   ]
  },
  {
   "cell_type": "markdown",
   "metadata": {},
   "source": [
    "Occasionally it can useful to interrogate the results of an optimize error programatically.  The `run_optimization` entrypoint makes this possible.\n",
    "\n",
    "`run_optimization` performs the same calculation as `calculate_optimal_portfolio`, but it returns an `OptimizationResult` which contains additional information besides the computed portfolio."
   ]
  },
  {
   "cell_type": "code",
   "execution_count": 46,
   "metadata": {
    "collapsed": false
   },
   "outputs": [
    {
     "name": "stdout",
     "output_type": "stream",
     "text": [
      "Success: OptimizationResult(success=True, status='optimal')\n",
      "Failure: OptimizationResult(success=False, status='infeasible')\n"
     ]
    }
   ],
   "source": [
    "# Run an optimization with no constraints to get a successful result.\n",
    "success_result = opt.run_optimization(objective, [])\n",
    "print \"Success:\", success_result\n",
    "\n",
    "# Re-run the impossible optimization to see a failed result.\n",
    "fail_result = opt.run_optimization(objective, impossible_constraints)\n",
    "print \"Failure:\", fail_result"
   ]
  },
  {
   "cell_type": "markdown",
   "metadata": {},
   "source": [
    "When an optimization succeeds, the result's `success` attribute is set to `True`, and the new optimal portfolio is stored as `result.new_weights`.  If the result failed, `success` is `False`, and `result.new_weights` is `None`."
   ]
  },
  {
   "cell_type": "code",
   "execution_count": 47,
   "metadata": {
    "collapsed": false
   },
   "outputs": [
    {
     "name": "stdout",
     "output_type": "stream",
     "text": [
      "Success: True\n",
      "New Portfolio: Equity(24 [AAPL])    0.1\n",
      "dtype: float64\n"
     ]
    }
   ],
   "source": [
    "print \"Success:\", success_result.success\n",
    "print \"New Portfolio:\", success_result.new_weights"
   ]
  },
  {
   "cell_type": "code",
   "execution_count": 48,
   "metadata": {
    "collapsed": false
   },
   "outputs": [
    {
     "name": "stdout",
     "output_type": "stream",
     "text": [
      "Success: False\n",
      "New Portfolio: None\n"
     ]
    }
   ],
   "source": [
    "print \"Success:\", fail_result.success\n",
    "print \"New Portfolio:\", fail_result.new_weights"
   ]
  },
  {
   "cell_type": "markdown",
   "metadata": {},
   "source": [
    "The result object also has a `print_diagnostics` method, which can be used to print the same debugging information displayed by `InfeasibleConstraints`. This can be useful for debugging cases where an optimization is **succeeding**, but not producing the results expected."
   ]
  },
  {
   "cell_type": "code",
   "execution_count": 49,
   "metadata": {
    "collapsed": false
   },
   "outputs": [
    {
     "name": "stdout",
     "output_type": "stream",
     "text": [
      "Target Portfolio (as provided to TargetWeights):\n",
      "  All Constraints Satisfied\n"
     ]
    }
   ],
   "source": [
    "success_result.print_diagnostics()"
   ]
  },
  {
   "cell_type": "code",
   "execution_count": 50,
   "metadata": {
    "collapsed": false
   },
   "outputs": [
    {
     "name": "stdout",
     "output_type": "stream",
     "text": [
      "Target Portfolio (as provided to TargetWeights):\n",
      "\n",
      "   Would violate DollarNeutral() because:\n",
      "      Net exposure (0.1) would be greater than max net exposure (0.01).\n",
      "\n",
      "Current Portfolio (at the time of the optimization):\n",
      "\n",
      "   Would violate FixedWeight(Equity(24 [AAPL])) because:\n",
      "      New weight (0.0) would not equal required weight (0.1).\n",
      "\n",
      "Empty Portfolio (no positions):\n",
      "\n",
      "   Would violate FixedWeight(Equity(24 [AAPL])) because:\n",
      "      New weight (0.0) would not equal required weight (0.1).\n"
     ]
    }
   ],
   "source": [
    "fail_result.print_diagnostics()"
   ]
  },
  {
   "cell_type": "markdown",
   "metadata": {},
   "source": [
    "# Review"
   ]
  },
  {
   "cell_type": "markdown",
   "metadata": {},
   "source": [
    "- The **Optimize API** is a suite of tools for solving portfolio optimization problems on Quantopian. It provides a high-level, declarative, finance-oriented interface to Python's excellent ecosystem of numerical optimization libraries.\n",
    "\n",
    "- Users interact with the Optimize API by passing an `Objective` and a list of `Constraint`s to one of three optimize entrypoints:\n",
    "  - The primary entrypoint in research is `calculate_optimal_portfolio`. \n",
    "  - The primary entrypoint in algorithms is `order_optimal_portfolio`.\n",
    "  - `run_optimization` is a lower-level entrypoint primarily useful for debugging.\n",
    "  \n",
    "- When an optimization fails because of `InfeasibleConstraints`, the optimizer provides information about the failed optimization by testing interesting portfolios for constraint information."
   ]
  }
 ],
 "metadata": {
  "kernelspec": {
   "display_name": "Python 2",
   "language": "python",
   "name": "python2"
  },
  "language_info": {
   "codemirror_mode": {
    "name": "ipython",
    "version": 2
   },
   "file_extension": ".py",
   "mimetype": "text/x-python",
   "name": "python",
   "nbconvert_exporter": "python",
   "pygments_lexer": "ipython2",
   "version": "2.7.12"
  }
 },
 "nbformat": 4,
 "nbformat_minor": 0
}
